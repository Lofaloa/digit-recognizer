{
  "nbformat": 4,
  "nbformat_minor": 0,
  "metadata": {
    "colab": {
      "name": "DigitRecognizer.ipynb",
      "provenance": [],
      "authorship_tag": "ABX9TyMfA4wH1kHnGOqJMiC8idzD"
    },
    "kernelspec": {
      "name": "python3",
      "display_name": "Python 3"
    }
  },
  "cells": [
    {
      "cell_type": "markdown",
      "metadata": {
        "id": "S2hKlQ6Lro8s"
      },
      "source": [
        "# Dependencies"
      ]
    },
    {
      "cell_type": "markdown",
      "metadata": {
        "id": "MT8aAaTZssCM"
      },
      "source": [
        "## Imports"
      ]
    },
    {
      "cell_type": "code",
      "metadata": {
        "id": "eM5SpKAwsukt"
      },
      "source": [
        "import pandas as pd\n",
        "import numpy as np"
      ],
      "execution_count": 8,
      "outputs": []
    },
    {
      "cell_type": "markdown",
      "metadata": {
        "id": "NEPDGA0Cs9i-"
      },
      "source": [
        "## Constants"
      ]
    },
    {
      "cell_type": "code",
      "metadata": {
        "id": "rpv-JM5DtApP"
      },
      "source": [
        "TRAIN_DATA_CSV_URI = \"https://raw.githubusercontent.com/Lofaloa/digit-recognizer/main/data/train.csv\""
      ],
      "execution_count": 11,
      "outputs": []
    },
    {
      "cell_type": "code",
      "metadata": {
        "id": "7PXsLCGOm9oq"
      },
      "source": [
        "DIGITS_DF = pd.read_csv(TRAIN_DATA_CSV_URI)"
      ],
      "execution_count": 12,
      "outputs": []
    }
  ]
}